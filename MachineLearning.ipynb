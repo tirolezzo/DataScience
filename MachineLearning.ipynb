{
  "nbformat": 4,
  "nbformat_minor": 0,
  "metadata": {
    "colab": {
      "provenance": [],
      "authorship_tag": "ABX9TyO7n0dU1sA8SAlXjb6zD0TC",
      "include_colab_link": true
    },
    "kernelspec": {
      "name": "python3",
      "display_name": "Python 3"
    },
    "language_info": {
      "name": "python"
    }
  },
  "cells": [
    {
      "cell_type": "markdown",
      "metadata": {
        "id": "view-in-github",
        "colab_type": "text"
      },
      "source": [
        "<a href=\"https://colab.research.google.com/github/tirolezzo/DataScience/blob/main/MachineLearning.ipynb\" target=\"_parent\"><img src=\"https://colab.research.google.com/assets/colab-badge.svg\" alt=\"Open In Colab\"/></a>"
      ]
    },
    {
      "cell_type": "markdown",
      "source": [
        "# Teoria\n"
      ],
      "metadata": {
        "id": "K4CLo1iKPFox"
      }
    },
    {
      "cell_type": "markdown",
      "source": [
        "O que é Machine Learning\n",
        " * Capacidade da Máquina Aprender (Computador)\n",
        " * Mas o que é aprendizagem ?\n",
        "\n",
        "Aprendizagem\n",
        " * Processo de adquirir de conhecimento\n",
        " * Processo é continuo  e evolutivo\n",
        " * Através da Relação com o Ambiente\n",
        "\n",
        "Máquina tambem é capaz de aprender\n",
        "  * Interagem com o ambiente - Ataves de dados\n",
        "  * Dados não são usados para máquina aprender\n",
        "  * O aprendizado pode ser persistido atráves de um 'modelo'\n",
        "  * O aprendizado deve melhorar\n",
        "  * O aprendizado pode ser medido\n",
        "\n",
        "Aprendiado continuo e mensurável\n",
        "\n",
        "* Contínuo: com dados melhores, o computador pode melhorar seu modelo, ou seja, aprender mais sobre as condições do tempo.\n",
        "* Mensurável: Podemos medir o quanto o computador aprendeu. Por exemplo: em 100 previsões acertou 87 e errou 13\n",
        "\n",
        "Até onde um computador pode aprender:\n",
        "\n",
        " * Limite físicos: memória, processamento, armazenamento\n",
        " * Limites lógicos: algoritmo utilizado\n",
        " * Limite do ambiente: dados\n",
        "\n",
        "Limite do ambiente: dados\n",
        " * Dados que temos:\n",
        "  * Temperatura, umidade, aparência, vento\n",
        " * O que causa a chuva:\n",
        "  * Temperatura, umidade, ventos\n",
        "  * Posição e deslocamento das massas de ar\n",
        "\n",
        "* Mineração de dados são processos de explorar e analisar grandes volumes de dados em busca de padrões, previsões, erros, associações entre outros.\n",
        "\n",
        "Aplicações\n",
        " - Medicina, educação, processamento natural, bioinformática, detecção de fraude, reconhecimento de fala, finanças, robótica, sistemas de recomendação, mineração de texto entre muitos outros.\n",
        "\n",
        " * Marketing:\n",
        "  - quais clientes irão responder as promoções?\n",
        "  - Qual combinação de produtos mais vende ?\n",
        "  - Quais clientes irão comprar mesmo sem oferta?\n",
        "  - Identificação de consumidores Alfa\n",
        "\n",
        "* Educação:\n",
        " - Quais alunos irão abandonar o curso e por que ?\n",
        " - Quais alunos são mais fieis?\n",
        " - Quais cursos serão mais rentaveis?\n",
        "\n",
        "* Recursos Humanos\n",
        " - Qual o perfil de talentos é mais adequado para quais vagas?\n",
        " - Qual perfil de funcionários que abandonaram o emprego e quando?\n",
        " - Quais ações são mais efetivas na produtividade?\n",
        "\n",
        "* Finanças e Contabilidade\n",
        " - Prever a performance financeira da empresa\n",
        " - Mitigação de riscos futuros\n",
        " - Fraude\n",
        "\n",
        "Tarefas do Machine Learning\n",
        "* Classificação\n",
        "* Regressão\n",
        "* Agrupamentos\n",
        "* Regras de Associação\n",
        "\n",
        "Classificação\n",
        " * Descrever ou prever um atributo especial chamado classe\n",
        " * Usamos classificação para prever uma fraude, descobrir a qual especie um animal pertence, preve uma doença ou classificar um tipo de fungo.\n",
        "\n",
        "Regressão\n",
        " * um tipo de classificação, porém, enquanto na classificação a classe é um tipo de dado nominal ou categórico, na regressão a classe é numérica.\n",
        " * Prever a altura de uma pessoa a partir do peso é um exemplo de tarefa de regressão.\n",
        "\n",
        "Agrupamentos\n",
        " * Não existe classe\n",
        " * O objetivo é criar grupos e atribuir as intâncias dos dados nestes grupos, a partir das caracteristicas, ou atributos destas instancia.\n",
        " * Exemplo de uso: identificar grupos de clientes e direcionar campanhas de marketing especificas; identificar tentativas de acesso a rede; categorizar uma nova especie entre outros.\n",
        "\n",
        "Regras de associações\n",
        " * Buscam a relação entre itens. A aplicação clássica é em cestas de compras: quem comprou produto A tambem comprou produto B. Porém, tem ampla aplicação em diagnosticos em medicina, sensos etc.\n",
        "\n",
        "Supervisonado vs Não Supervisionado\n",
        " * As Tarefas de mineração de dados são ditas supervisionadas quano existe uma classe, ou um atributo especial com o qual se pode comparar e validar o resultado.\n",
        "\n",
        "Problema da Classe Rara\n",
        " * Transações de Fraude: a Fraude é uma classe rara\n",
        " * O modelo pode ter dificuldade de aprender uma classe rara\n",
        " * Solução: estratificação\n",
        "\n",
        "Como \"melhorar um modelo\"\n",
        " * Testando diferentess algoritmos\n",
        " * Parametrizando algoritmos (hiper parâmetros)\n",
        " * Selecionando e tratando dados\n",
        " * Seleção / Engenharia de atributos\n",
        "\n",
        "Tipos de algoritmos\n",
        " * Árvores de Decisão\n",
        " * Regras\n",
        " * Naive Bayes\n",
        " * Redes Bayesianas\n",
        " * Redes Neurais Artificiais e Aprendizado Profundo (Próxima Seção)\n",
        " * Máquina de Vetor de Suporte\n",
        " * Métodos de Grupos\n",
        " * Aprendizado Baseado em Instância\n",
        "\n",
        "Árvores de Decisão\n",
        " * Nodo raiz\n",
        " * Nodos Internos\n",
        " * Nodos Terminais\n",
        " * Algoritmos de Paritição: Grau de pureza\n",
        "\n",
        "\n",
        "\n",
        "\n"
      ],
      "metadata": {
        "id": "Y8Ijd2zlPI3a"
      }
    },
    {
      "cell_type": "markdown",
      "source": [
        "# Prática"
      ],
      "metadata": {
        "id": "kpYX_f8pLo6y"
      }
    },
    {
      "cell_type": "markdown",
      "source": [
        "Algoritmo Naive Bayes"
      ],
      "metadata": {
        "id": "tGb2fcY2LuqH"
      }
    },
    {
      "cell_type": "code",
      "source": [],
      "metadata": {
        "id": "Bt3vkZ6MLzmZ"
      },
      "execution_count": null,
      "outputs": []
    }
  ]
}