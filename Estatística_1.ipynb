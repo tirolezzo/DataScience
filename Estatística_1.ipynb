{
  "nbformat": 4,
  "nbformat_minor": 0,
  "metadata": {
    "colab": {
      "provenance": [],
      "authorship_tag": "ABX9TyONSHyd89FXhxnIFQXzo2Rd",
      "include_colab_link": true
    },
    "kernelspec": {
      "name": "python3",
      "display_name": "Python 3"
    },
    "language_info": {
      "name": "python"
    }
  },
  "cells": [
    {
      "cell_type": "markdown",
      "metadata": {
        "id": "view-in-github",
        "colab_type": "text"
      },
      "source": [
        "<a href=\"https://colab.research.google.com/github/tirolezzo/DataScience/blob/main/Estat%C3%ADstica_1.ipynb\" target=\"_parent\"><img src=\"https://colab.research.google.com/assets/colab-badge.svg\" alt=\"Open In Colab\"/></a>"
      ]
    },
    {
      "cell_type": "markdown",
      "source": [
        "# Conceitos Gerais"
      ],
      "metadata": {
        "id": "T6ZsflpHO3hR"
      }
    },
    {
      "cell_type": "markdown",
      "source": [
        "Estatpistica é a ciência que se utiliza das teorias probabilisticas para explicar a frequencia da ocorrência de eventos.\n",
        "\n",
        "Principais Divisões:\n",
        "1. Descritiva\n",
        "2. Probabilistica\n",
        "3. Inferencial\n",
        "\n",
        "Descritiva\n",
        " - Organziar, demonstrar e resumir dados (contar as histórias, apresentar as soluções do seu trabalho.\n",
        "\n",
        "Probabilidade\n",
        " - Analisar situações sujeitas ao acaso (caso da moeda)\n",
        "\n",
        "Inferência\n",
        " - Obter respostas sobre um fenomeno com dados representativos\n",
        "\n",
        "**Observação e Experimento**\n",
        " - Observação: estudo em que os elementos analisados não são afetados (pesquisa)\n",
        " - Experimentos: condições ou tratamentos são impostas a grupos, para avaliar o resultado.\n",
        "\n",
        "**Variáveis**\n",
        " - Quantitativa - Numéricas\n",
        "   * Continuas: valores reais, podem assumir qualquer intervalo\n",
        "   * Discretas: Números fixos, inteiro e num intervalo (EX: Quantidade de filhos)\n",
        " - Qualitativas: Categoricas\n",
        "   * Nominais: categorias sem hierarquia\n",
        "   * Ordinais: categorias **COM** Hierarquia\n",
        "\n",
        "1. Interpretação\n",
        "2. Escolhas\n",
        "3. Avaliação\n"
      ],
      "metadata": {
        "id": "xbNno685PFy8"
      }
    },
    {
      "cell_type": "markdown",
      "source": [
        "# Análise Exploratória de Dados (AED) (EDA)"
      ],
      "metadata": {
        "id": "MZC21o-Dmatp"
      }
    },
    {
      "cell_type": "markdown",
      "source": [],
      "metadata": {
        "id": "jPZsWGVhO2qa"
      }
    },
    {
      "cell_type": "markdown",
      "source": [
        "EDA\n",
        " - Busca obter informações ocultas sobre os dados\n",
        "  - Variação\n",
        "  - Anomalias\n",
        "  - Distribuição\n",
        "  - Tendencias\n",
        "  - Padrões\n",
        "  - Relações\n",
        "\n",
        "Iniciar uma análise de dados pela EDA, só então decidir como buscar a solução para o problema.\n",
        "\n",
        "ADA faz parte do pipeline de qualquer processo de análise de dados, mesmo que informal."
      ],
      "metadata": {
        "id": "nMY0JpMNonnJ"
      }
    },
    {
      "cell_type": "markdown",
      "source": [
        "# Amostra"
      ],
      "metadata": {
        "id": "ZpXhI-bm2o8a"
      }
    },
    {
      "cell_type": "markdown",
      "source": [
        "Parte de uma população, selecionada usando alguma técnica que de chances iguais a todos os elementos da população de serem selecionados.\n",
        "\n",
        "Conceitos\n",
        " - Populção: Alvo de estudo\n",
        " - Amostra: Subconjunto da população\n",
        " - Censo: pesquisa com toda a população\n",
        "\n",
        "Amostra <> população\n",
        "\n",
        "Porque Amostra?\n",
        " - Pode ser caro ou impossivel inferir sobre toda a população (censo)\n",
        "\n",
        "É possivl inferir sobre uma amostra\n",
        " * Uma amostra feita corretamente deve representar as mesmas caracteristicas da população de onde foi retirada\n",
        " * Se ela não representa a população, deizemos que ela é enviesada.\n",
        "\n",
        "Enviesamento\n",
        " - Você subestima ou superestima o parâmetro da população\n",
        " - Causas:\n",
        "   * Pesquisa de pessoas próximas ou de fácil acesso\n",
        "   * Pesquisas pela internet\n",
        "   * Sem uso de mecanismo de seleção aleatório\n",
        "\n",
        "\"Custo\" da amostra\n",
        " * Margem de Erro e Nivel de Confiança\n",
        " * Variação: amostrar diferentes podem apresentar resultados diferentes\n",
        "\n",
        "Amostragem\n",
        " - Amplamente utilizada em pesquisas, estudos etc\n",
        " - Faz parte do dia a dia de um Cientista de dados\n",
        "\n"
      ],
      "metadata": {
        "id": "mMzwoEwJ2rd7"
      }
    },
    {
      "cell_type": "markdown",
      "source": [
        "Amostras Aleatórias Simples\n",
        "* um detemrinado número de elementos é retirado da população de forma aleatória\n",
        "* todos os elemtos da população alvo do processo de amostragem, devem ter as mesmas chances de serem selecionados para fazer parte da amostra\n",
        "* Com reposição\n",
        "* Sem Reposição\n",
        "\n",
        "Amostra Estratificada\n",
        " * As vezes as populações estão dividas nos chamados estratos\n",
        "\n",
        "Amostra sistemática\n",
        " * é escolido uma elemento aleatório, e a partir dai, a cada N elementos um novo membro é escolhido\n",
        "\n",
        "\n",
        "\n"
      ],
      "metadata": {
        "id": "CHHQiWC0C0lg"
      }
    },
    {
      "cell_type": "markdown",
      "source": [
        "# Medidas de Centralidade e Variabilidade"
      ],
      "metadata": {
        "id": "TBPzKIAyG8U8"
      }
    },
    {
      "cell_type": "markdown",
      "source": [
        "Média Ponderada\n",
        " * Cada número esta sujeiro a um peso\n",
        "\n",
        "Mediana\n",
        " * Valor do meio\n",
        " * Ordena-se os valores em ordem crescente\n",
        " * se a quantidade for par, a mediana será média dos valores nas posições n/2 e n/2+1\n",
        " * se a quantidade foi impar, a mediana será o valor na posição (n+1) / 2\n",
        "\n",
        "Variancia\n",
        " * amostra s^2 = (x1 - x2)^2 / n -1\n",
        " * população a^2 = (x1 - x2)^2 / N\n",
        "\n",
        "Desvio Padrão = raiz quadrada da variancia\n",
        " - qunado maior for, mais distante está da média\n",
        "\n",
        "Amplitude\n",
        " - Diferença entre o MAIOR e o MENOR\n",
        "\n",
        "Medidas não centrais\n",
        " * quartis\n",
        "  * q1: 25% dos menores valores\n",
        "  * q2: 50% (equiavale a mediana)\n",
        "  * q3: 75% dos maiores  mais valores\n",
        "\n",
        "\n",
        "**Amostra <> população**\n",
        "\n",
        "Amostra x (média) | u (população)\n",
        "Desvio Padrão S (média) | sigma (a) (população)"
      ],
      "metadata": {
        "id": "8PEAx0GYHD22"
      }
    },
    {
      "cell_type": "markdown",
      "source": [
        "# Probabilidade"
      ],
      "metadata": {
        "id": "kWP5b0orhXa7"
      }
    },
    {
      "cell_type": "markdown",
      "source": [
        "* Probabilidade (P): 0 <= P <= 1\n",
        "* P = 1: evento certo;\n",
        "* P = 0: evento impossivel;\n",
        "* Probabilidade: 0,5 ~ 1/2\n",
        "* impossivel: -0,5 / -20% / 2/1\n",
        "\n",
        "Conceitos\n",
        " * Experimento: o que está sendo estudado (jogar moeda)\n",
        " * Espaço amostral: todas as possibilidade de ocorrencia do evento (cara ou coroa)\n",
        " * evento: resultados ocorridos ('deu' coroa)\n",
        "\n",
        "Evento Excludentes\n",
        "* Quando não pdoem ocorrer ao mesmo tempo\n",
        "  * Exemplo: jogar um dado e ser 1 e par\n",
        "\n",
        "Eventos não excludentes\n",
        " * Quando podem ocorrer ao mesmo tempo\n",
        "  * Exemplo jogar um dado e ser 2 e par\n",
        "\n",
        "Eventos dependentes\n",
        " * a ocorrência de um evento afeta o outro. Um tem que ocorrer para depois que o outro ocorra\n",
        "\n",
        "Eventos independentes\n",
        " * A ocorrência de um evento não afeta o outro\n",
        "\n",
        "Um único evento\n",
        " * p = Ocorrência esperada / Numero de eventos possiveis\n",
        " * Exemplo: jogar uma moeda e dar cara: P = 1/2 | P = 0,5\n",
        " * Exemplo: jogar um dado e dar 6: P = 1/6, p = = 0,16\n",
        " * Exemplo: jogar um dados e dar 1 ou 6: P = 2/6; P = 0,33\n",
        " * exemplo: jogar um dado e dar impar ou maior que 4: (1, 3, 5, 6) | p = 4/6 = 0,66\n",
        "\n",
        "\n",
        "Eventos Excluedentes\n",
        " * Soma-se as probabilidades:\n",
        "  * Jogar um dado e ser 1 **OU** par: 1/6 + 3/6 = 4/6 = 0,66\n",
        "\n",
        "Eventos Não excludentes\n",
        " * Soma-se as probabilidade, diminui-se as sobreposições\n",
        "  * jogar um dados e e ser 2 **OU** par: 1/6 + 3/6 - 1/6 = 3/6 = 0,5\n",
        "\n",
        "Eventos independentes\n",
        " * Mais de um evento, como eles se relacionam? MULTIPLICAÇÂO\n",
        " * qual a probabilidade de jogar dois dados 1 e 6 (dois eventos independentes)\n",
        "  * 1/6 * 1/6 = 1/36 = 0,027\n",
        "\n",
        "Eventos dependentes\n",
        " * Com 6 cartas na mão (A, 2, 3, 4, 5, 6), qual a probabilidade de primeiro evento tirar A **E** no segundo evento tirar 4 ?\n",
        "   * No segundo evento temos 1 carta a menos na mão.\n",
        "   * 1/6 * 1/5 = 1/30 = 0,033"
      ],
      "metadata": {
        "id": "0rs-qvdlhZ1R"
      }
    },
    {
      "cell_type": "markdown",
      "source": [
        "# Pequenas Amostras"
      ],
      "metadata": {
        "id": "BVAEnbZIixkY"
      }
    },
    {
      "cell_type": "markdown",
      "source": [
        "* probabilidade de conclusões falsas\n",
        "* Não reprodutível\n",
        "* Não comparável"
      ],
      "metadata": {
        "id": "ykBNS-jEi2Y-"
      }
    },
    {
      "cell_type": "markdown",
      "source": [
        "# Passeio Aleatório"
      ],
      "metadata": {
        "id": "Zzbj7BFIjCqA"
      }
    },
    {
      "cell_type": "markdown",
      "source": [
        "* Sucessão de etapas aleatórias e independentes (uma não influencia a outra)\n",
        "* Usada para estudar vários fenomenos naturais e empresariais\n",
        "* Em finanças é usado para estudar os preços de ações\n",
        "* Não é 'totalmente aleatório'\n",
        "* existe uma distribuição de probabilidades\n",
        "\n"
      ],
      "metadata": {
        "id": "plZq807kjKoh"
      }
    },
    {
      "cell_type": "markdown",
      "source": [
        "# Probabilidade em jogos de azar"
      ],
      "metadata": {
        "id": "-EKauWDpkLHL"
      }
    },
    {
      "cell_type": "markdown",
      "source": [
        "Dicas para ganhar na loteria\n",
        "1. Jogar numeros que saem mais\n",
        "2. jogar numeros que saem menos\n",
        "3. eliminar combinações sem pares ou sem impares"
      ],
      "metadata": {
        "id": "rpV0RkUZkPPy"
      }
    },
    {
      "cell_type": "markdown",
      "source": [
        "Estocástico x Deterministico\n",
        " * Estocástico: dada uma mesma entrada, a saida pode variar\n",
        " * Deterministico: dada uma mesma entrada, apresenta sempre a mesma saída"
      ],
      "metadata": {
        "id": "2mwAGXVxS5kI"
      }
    },
    {
      "cell_type": "markdown",
      "source": [
        "# Distribuição"
      ],
      "metadata": {
        "id": "WhnKPIacTb7_"
      }
    },
    {
      "cell_type": "markdown",
      "source": [
        "* Usado principalmente na teoria da probabilidade\n",
        "* Comportamento de dados aleatórios\n"
      ],
      "metadata": {
        "id": "4DO2Qbl5Te5Z"
      }
    },
    {
      "cell_type": "markdown",
      "source": [
        "# Distribuição Normal ou Gaussina"
      ],
      "metadata": {
        "id": "0ohBA1gaYwU6"
      }
    },
    {
      "cell_type": "markdown",
      "source": [
        "Se apresentam de forma mais simétrica\n",
        "\n",
        "\n",
        "1 . Distribuição Normal padrão (Z)\n",
        " * Distribuição de referencia para outras distribuições Normais\n",
        " * Média Zero e Desvio Padrão = 1\n",
        " * Mostra o numero de desvios padrões que o valor está acima ou abaixo da média (score z ou valor z) **Exemplo**: z = -2 quer dizer que os dados estão a dois desvios padrão abaixo da média\n",
        " * Usa-se uma formula para calcular a probabilidade de seus dados com relação a tabela Z\n",
        " * Muito dificil calcular probabilidades usando a Distribuição Normal\n",
        " * Por isso utiliza-se a Tabela Z\n",
        " * com a formula abaixo voce transforma a probabilidade de sua distribuição na probabilidade da tabela Z\n",
        " * Então voce olha a probabilidade na tabela\n",
        " * Z = X - U / Sigma(a)\n",
        " * x = Sua distribuição; U = Méida; a = Desvio padrão\n",
        "\n",
        "2. Distribuição nominal continua\n",
        " * Não buscamos probabilidades discretas\n",
        " * Probabilidade discretas: Distribuição nominal"
      ],
      "metadata": {
        "id": "gHbDjfrOY2ay"
      }
    },
    {
      "cell_type": "markdown",
      "source": [
        "# Teorema Central do Limite\n"
      ],
      "metadata": {
        "id": "w08e4MsmEC4s"
      }
    },
    {
      "cell_type": "markdown",
      "source": [
        "* conforme o tamanho da amostra, a distrbuição das médias amostrais se aproxima cada vez mais da distribuição normal.\n",
        "* Independente de como os dados estão distribuidos, suas médias estarão normalmente distribuidas."
      ],
      "metadata": {
        "id": "I9XG7okREIDo"
      }
    },
    {
      "cell_type": "markdown",
      "source": [
        "# Estatística Paramétrica"
      ],
      "metadata": {
        "id": "9zAQCq6XTBwO"
      }
    },
    {
      "cell_type": "markdown",
      "source": [
        "* Requer que os dados estejam em conformidade com alguma distribuição\n",
        "* Distribuição normal\n",
        "\n",
        "Estatística não paramétrica\n",
        " * Quando os dados não estao com coformidade com alguma distribuição\n",
        " * Quando não se conhece a distribuição dos dados\n",
        " * Exemplo: se os dados estão normalmente distribuidos, um teste de hipotese paramétrico tende a ser mais preciso do que um teste não paramétrico."
      ],
      "metadata": {
        "id": "VFAMAqV9TFrs"
      }
    },
    {
      "cell_type": "markdown",
      "source": [
        "# Prática Amostragem simples"
      ],
      "metadata": {
        "id": "hMEXTkr7U3xI"
      }
    },
    {
      "cell_type": "code",
      "source": [
        "import pandas as pd\n",
        "import numpy as np\n"
      ],
      "metadata": {
        "id": "oie4DvwgU8Ly"
      },
      "execution_count": 1,
      "outputs": []
    },
    {
      "cell_type": "code",
      "source": [
        "url = ('https://raw.githubusercontent.com/tirolezzo/DataScience/main/iris.csv')\n",
        "base = pd.read_csv(url)\n",
        "base"
      ],
      "metadata": {
        "colab": {
          "base_uri": "https://localhost:8080/",
          "height": 0
        },
        "id": "duUlkh0nV_u3",
        "outputId": "7c73ca48-9c22-427f-f87d-8719714eac2f"
      },
      "execution_count": 2,
      "outputs": [
        {
          "output_type": "execute_result",
          "data": {
            "text/plain": [
              "     sepal length  sepal width  petal length  petal width           class\n",
              "0             5.1          3.5           1.4          0.2     Iris-setosa\n",
              "1             4.9          3.0           1.4          0.2     Iris-setosa\n",
              "2             4.7          3.2           1.3          0.2     Iris-setosa\n",
              "3             4.6          3.1           1.5          0.2     Iris-setosa\n",
              "4             5.0          3.6           1.4          0.2     Iris-setosa\n",
              "..            ...          ...           ...          ...             ...\n",
              "145           6.7          3.0           5.2          2.3  Iris-virginica\n",
              "146           6.3          2.5           5.0          1.9  Iris-virginica\n",
              "147           6.5          3.0           5.2          2.0  Iris-virginica\n",
              "148           6.2          3.4           5.4          2.3  Iris-virginica\n",
              "149           5.9          3.0           5.1          1.8  Iris-virginica\n",
              "\n",
              "[150 rows x 5 columns]"
            ],
            "text/html": [
              "\n",
              "  <div id=\"df-438bc500-c2e1-4d14-8910-cc54b0bce2c6\" class=\"colab-df-container\">\n",
              "    <div>\n",
              "<style scoped>\n",
              "    .dataframe tbody tr th:only-of-type {\n",
              "        vertical-align: middle;\n",
              "    }\n",
              "\n",
              "    .dataframe tbody tr th {\n",
              "        vertical-align: top;\n",
              "    }\n",
              "\n",
              "    .dataframe thead th {\n",
              "        text-align: right;\n",
              "    }\n",
              "</style>\n",
              "<table border=\"1\" class=\"dataframe\">\n",
              "  <thead>\n",
              "    <tr style=\"text-align: right;\">\n",
              "      <th></th>\n",
              "      <th>sepal length</th>\n",
              "      <th>sepal width</th>\n",
              "      <th>petal length</th>\n",
              "      <th>petal width</th>\n",
              "      <th>class</th>\n",
              "    </tr>\n",
              "  </thead>\n",
              "  <tbody>\n",
              "    <tr>\n",
              "      <th>0</th>\n",
              "      <td>5.1</td>\n",
              "      <td>3.5</td>\n",
              "      <td>1.4</td>\n",
              "      <td>0.2</td>\n",
              "      <td>Iris-setosa</td>\n",
              "    </tr>\n",
              "    <tr>\n",
              "      <th>1</th>\n",
              "      <td>4.9</td>\n",
              "      <td>3.0</td>\n",
              "      <td>1.4</td>\n",
              "      <td>0.2</td>\n",
              "      <td>Iris-setosa</td>\n",
              "    </tr>\n",
              "    <tr>\n",
              "      <th>2</th>\n",
              "      <td>4.7</td>\n",
              "      <td>3.2</td>\n",
              "      <td>1.3</td>\n",
              "      <td>0.2</td>\n",
              "      <td>Iris-setosa</td>\n",
              "    </tr>\n",
              "    <tr>\n",
              "      <th>3</th>\n",
              "      <td>4.6</td>\n",
              "      <td>3.1</td>\n",
              "      <td>1.5</td>\n",
              "      <td>0.2</td>\n",
              "      <td>Iris-setosa</td>\n",
              "    </tr>\n",
              "    <tr>\n",
              "      <th>4</th>\n",
              "      <td>5.0</td>\n",
              "      <td>3.6</td>\n",
              "      <td>1.4</td>\n",
              "      <td>0.2</td>\n",
              "      <td>Iris-setosa</td>\n",
              "    </tr>\n",
              "    <tr>\n",
              "      <th>...</th>\n",
              "      <td>...</td>\n",
              "      <td>...</td>\n",
              "      <td>...</td>\n",
              "      <td>...</td>\n",
              "      <td>...</td>\n",
              "    </tr>\n",
              "    <tr>\n",
              "      <th>145</th>\n",
              "      <td>6.7</td>\n",
              "      <td>3.0</td>\n",
              "      <td>5.2</td>\n",
              "      <td>2.3</td>\n",
              "      <td>Iris-virginica</td>\n",
              "    </tr>\n",
              "    <tr>\n",
              "      <th>146</th>\n",
              "      <td>6.3</td>\n",
              "      <td>2.5</td>\n",
              "      <td>5.0</td>\n",
              "      <td>1.9</td>\n",
              "      <td>Iris-virginica</td>\n",
              "    </tr>\n",
              "    <tr>\n",
              "      <th>147</th>\n",
              "      <td>6.5</td>\n",
              "      <td>3.0</td>\n",
              "      <td>5.2</td>\n",
              "      <td>2.0</td>\n",
              "      <td>Iris-virginica</td>\n",
              "    </tr>\n",
              "    <tr>\n",
              "      <th>148</th>\n",
              "      <td>6.2</td>\n",
              "      <td>3.4</td>\n",
              "      <td>5.4</td>\n",
              "      <td>2.3</td>\n",
              "      <td>Iris-virginica</td>\n",
              "    </tr>\n",
              "    <tr>\n",
              "      <th>149</th>\n",
              "      <td>5.9</td>\n",
              "      <td>3.0</td>\n",
              "      <td>5.1</td>\n",
              "      <td>1.8</td>\n",
              "      <td>Iris-virginica</td>\n",
              "    </tr>\n",
              "  </tbody>\n",
              "</table>\n",
              "<p>150 rows × 5 columns</p>\n",
              "</div>\n",
              "    <div class=\"colab-df-buttons\">\n",
              "\n",
              "  <div class=\"colab-df-container\">\n",
              "    <button class=\"colab-df-convert\" onclick=\"convertToInteractive('df-438bc500-c2e1-4d14-8910-cc54b0bce2c6')\"\n",
              "            title=\"Convert this dataframe to an interactive table.\"\n",
              "            style=\"display:none;\">\n",
              "\n",
              "  <svg xmlns=\"http://www.w3.org/2000/svg\" height=\"24px\" viewBox=\"0 -960 960 960\">\n",
              "    <path d=\"M120-120v-720h720v720H120Zm60-500h600v-160H180v160Zm220 220h160v-160H400v160Zm0 220h160v-160H400v160ZM180-400h160v-160H180v160Zm440 0h160v-160H620v160ZM180-180h160v-160H180v160Zm440 0h160v-160H620v160Z\"/>\n",
              "  </svg>\n",
              "    </button>\n",
              "\n",
              "  <style>\n",
              "    .colab-df-container {\n",
              "      display:flex;\n",
              "      gap: 12px;\n",
              "    }\n",
              "\n",
              "    .colab-df-convert {\n",
              "      background-color: #E8F0FE;\n",
              "      border: none;\n",
              "      border-radius: 50%;\n",
              "      cursor: pointer;\n",
              "      display: none;\n",
              "      fill: #1967D2;\n",
              "      height: 32px;\n",
              "      padding: 0 0 0 0;\n",
              "      width: 32px;\n",
              "    }\n",
              "\n",
              "    .colab-df-convert:hover {\n",
              "      background-color: #E2EBFA;\n",
              "      box-shadow: 0px 1px 2px rgba(60, 64, 67, 0.3), 0px 1px 3px 1px rgba(60, 64, 67, 0.15);\n",
              "      fill: #174EA6;\n",
              "    }\n",
              "\n",
              "    .colab-df-buttons div {\n",
              "      margin-bottom: 4px;\n",
              "    }\n",
              "\n",
              "    [theme=dark] .colab-df-convert {\n",
              "      background-color: #3B4455;\n",
              "      fill: #D2E3FC;\n",
              "    }\n",
              "\n",
              "    [theme=dark] .colab-df-convert:hover {\n",
              "      background-color: #434B5C;\n",
              "      box-shadow: 0px 1px 3px 1px rgba(0, 0, 0, 0.15);\n",
              "      filter: drop-shadow(0px 1px 2px rgba(0, 0, 0, 0.3));\n",
              "      fill: #FFFFFF;\n",
              "    }\n",
              "  </style>\n",
              "\n",
              "    <script>\n",
              "      const buttonEl =\n",
              "        document.querySelector('#df-438bc500-c2e1-4d14-8910-cc54b0bce2c6 button.colab-df-convert');\n",
              "      buttonEl.style.display =\n",
              "        google.colab.kernel.accessAllowed ? 'block' : 'none';\n",
              "\n",
              "      async function convertToInteractive(key) {\n",
              "        const element = document.querySelector('#df-438bc500-c2e1-4d14-8910-cc54b0bce2c6');\n",
              "        const dataTable =\n",
              "          await google.colab.kernel.invokeFunction('convertToInteractive',\n",
              "                                                    [key], {});\n",
              "        if (!dataTable) return;\n",
              "\n",
              "        const docLinkHtml = 'Like what you see? Visit the ' +\n",
              "          '<a target=\"_blank\" href=https://colab.research.google.com/notebooks/data_table.ipynb>data table notebook</a>'\n",
              "          + ' to learn more about interactive tables.';\n",
              "        element.innerHTML = '';\n",
              "        dataTable['output_type'] = 'display_data';\n",
              "        await google.colab.output.renderOutput(dataTable, element);\n",
              "        const docLink = document.createElement('div');\n",
              "        docLink.innerHTML = docLinkHtml;\n",
              "        element.appendChild(docLink);\n",
              "      }\n",
              "    </script>\n",
              "  </div>\n",
              "\n",
              "\n",
              "<div id=\"df-cdd21c12-245f-4a9c-9edf-246aa167e21b\">\n",
              "  <button class=\"colab-df-quickchart\" onclick=\"quickchart('df-cdd21c12-245f-4a9c-9edf-246aa167e21b')\"\n",
              "            title=\"Suggest charts.\"\n",
              "            style=\"display:none;\">\n",
              "\n",
              "<svg xmlns=\"http://www.w3.org/2000/svg\" height=\"24px\"viewBox=\"0 0 24 24\"\n",
              "     width=\"24px\">\n",
              "    <g>\n",
              "        <path d=\"M19 3H5c-1.1 0-2 .9-2 2v14c0 1.1.9 2 2 2h14c1.1 0 2-.9 2-2V5c0-1.1-.9-2-2-2zM9 17H7v-7h2v7zm4 0h-2V7h2v10zm4 0h-2v-4h2v4z\"/>\n",
              "    </g>\n",
              "</svg>\n",
              "  </button>\n",
              "\n",
              "<style>\n",
              "  .colab-df-quickchart {\n",
              "    background-color: #E8F0FE;\n",
              "    border: none;\n",
              "    border-radius: 50%;\n",
              "    cursor: pointer;\n",
              "    display: none;\n",
              "    fill: #1967D2;\n",
              "    height: 32px;\n",
              "    padding: 0 0 0 0;\n",
              "    width: 32px;\n",
              "  }\n",
              "\n",
              "  .colab-df-quickchart:hover {\n",
              "    background-color: #E2EBFA;\n",
              "    box-shadow: 0px 1px 2px rgba(60, 64, 67, 0.3), 0px 1px 3px 1px rgba(60, 64, 67, 0.15);\n",
              "    fill: #174EA6;\n",
              "  }\n",
              "\n",
              "  [theme=dark] .colab-df-quickchart {\n",
              "    background-color: #3B4455;\n",
              "    fill: #D2E3FC;\n",
              "  }\n",
              "\n",
              "  [theme=dark] .colab-df-quickchart:hover {\n",
              "    background-color: #434B5C;\n",
              "    box-shadow: 0px 1px 3px 1px rgba(0, 0, 0, 0.15);\n",
              "    filter: drop-shadow(0px 1px 2px rgba(0, 0, 0, 0.3));\n",
              "    fill: #FFFFFF;\n",
              "  }\n",
              "</style>\n",
              "\n",
              "  <script>\n",
              "    async function quickchart(key) {\n",
              "      const charts = await google.colab.kernel.invokeFunction(\n",
              "          'suggestCharts', [key], {});\n",
              "    }\n",
              "    (() => {\n",
              "      let quickchartButtonEl =\n",
              "        document.querySelector('#df-cdd21c12-245f-4a9c-9edf-246aa167e21b button');\n",
              "      quickchartButtonEl.style.display =\n",
              "        google.colab.kernel.accessAllowed ? 'block' : 'none';\n",
              "    })();\n",
              "  </script>\n",
              "</div>\n",
              "    </div>\n",
              "  </div>\n"
            ]
          },
          "metadata": {},
          "execution_count": 2
        }
      ]
    },
    {
      "cell_type": "code",
      "source": [
        "base.shape"
      ],
      "metadata": {
        "colab": {
          "base_uri": "https://localhost:8080/"
        },
        "id": "CoeFVQrsXdf7",
        "outputId": "dbecf455-d799-485f-8028-f490ce54604f"
      },
      "execution_count": 3,
      "outputs": [
        {
          "output_type": "execute_result",
          "data": {
            "text/plain": [
              "(150, 5)"
            ]
          },
          "metadata": {},
          "execution_count": 3
        }
      ]
    },
    {
      "cell_type": "code",
      "source": [
        "# Mudança da semente aleatória randomica para manter os resultados em vários execuções\n",
        "np.random.seed(2345)\n",
        "# 150 amostras, 0 a 1, com reposição, possibilidades equivalentes\n",
        "amostra = np.random.choice(a = [0, 1], size = 150, replace = True, p = [0.7, 0.3])\n",
        "amostra"
      ],
      "metadata": {
        "colab": {
          "base_uri": "https://localhost:8080/"
        },
        "id": "0pJEXhopXfkK",
        "outputId": "fc1ab092-e7d4-469f-e475-202027e85dfa"
      },
      "execution_count": 4,
      "outputs": [
        {
          "output_type": "execute_result",
          "data": {
            "text/plain": [
              "array([0, 0, 0, 0, 1, 0, 0, 0, 1, 0, 0, 1, 0, 1, 0, 0, 1, 0, 1, 1, 1, 0,\n",
              "       0, 1, 1, 1, 0, 1, 0, 0, 1, 0, 0, 1, 1, 0, 1, 0, 0, 0, 1, 0, 1, 0,\n",
              "       0, 0, 0, 0, 0, 0, 1, 1, 0, 0, 0, 0, 0, 0, 0, 0, 0, 1, 0, 0, 1, 0,\n",
              "       0, 1, 0, 0, 1, 0, 0, 0, 0, 1, 0, 1, 0, 0, 1, 1, 0, 0, 0, 0, 0, 0,\n",
              "       0, 0, 0, 0, 1, 0, 1, 1, 1, 1, 1, 1, 0, 0, 0, 0, 0, 0, 0, 0, 1, 0,\n",
              "       0, 0, 0, 0, 0, 0, 0, 0, 1, 0, 0, 0, 0, 0, 1, 1, 1, 0, 1, 0, 1, 1,\n",
              "       1, 0, 0, 0, 0, 0, 0, 0, 0, 1, 1, 0, 0, 1, 1, 0, 0, 1])"
            ]
          },
          "metadata": {},
          "execution_count": 4
        }
      ]
    },
    {
      "cell_type": "code",
      "source": [
        "#verificar o tamanho da amostra\n",
        "len(amostra)"
      ],
      "metadata": {
        "colab": {
          "base_uri": "https://localhost:8080/"
        },
        "id": "HhAkvRt1a_qv",
        "outputId": "926df48a-e046-410c-c528-23b06d4f454c"
      },
      "execution_count": 5,
      "outputs": [
        {
          "output_type": "execute_result",
          "data": {
            "text/plain": [
              "150"
            ]
          },
          "metadata": {},
          "execution_count": 5
        }
      ]
    },
    {
      "cell_type": "code",
      "source": [
        "# verificar tamanhos da amostra para valores igual a 0\n",
        "len(amostra[amostra == 0])"
      ],
      "metadata": {
        "colab": {
          "base_uri": "https://localhost:8080/"
        },
        "id": "d1TbrYM5bIDD",
        "outputId": "d89760a0-f0db-40bf-ab87-7aa58e157cb0"
      },
      "execution_count": 6,
      "outputs": [
        {
          "output_type": "execute_result",
          "data": {
            "text/plain": [
              "101"
            ]
          },
          "metadata": {},
          "execution_count": 6
        }
      ]
    },
    {
      "cell_type": "code",
      "source": [
        "# verificar tamanhos da amostra para valores igual a 1\n",
        "len(amostra[amostra == 1])"
      ],
      "metadata": {
        "colab": {
          "base_uri": "https://localhost:8080/"
        },
        "id": "ZtVgHr-ub-fI",
        "outputId": "d12b0051-8eb4-48d8-a807-a1ea10799982"
      },
      "execution_count": 7,
      "outputs": [
        {
          "output_type": "execute_result",
          "data": {
            "text/plain": [
              "49"
            ]
          },
          "metadata": {},
          "execution_count": 7
        }
      ]
    },
    {
      "cell_type": "code",
      "source": [
        "base_final = base.loc[amostra ==0]\n",
        "base_final.shape"
      ],
      "metadata": {
        "colab": {
          "base_uri": "https://localhost:8080/"
        },
        "id": "MMFav1NBcqcy",
        "outputId": "3881a162-f0a6-490f-eef8-93799582e0ad"
      },
      "execution_count": 8,
      "outputs": [
        {
          "output_type": "execute_result",
          "data": {
            "text/plain": [
              "(101, 5)"
            ]
          },
          "metadata": {},
          "execution_count": 8
        }
      ]
    },
    {
      "cell_type": "code",
      "source": [
        "base_final2 = base.loc[amostra == 1]\n",
        "base_final2.shape"
      ],
      "metadata": {
        "colab": {
          "base_uri": "https://localhost:8080/"
        },
        "id": "nXI0lCHMcyOz",
        "outputId": "089680ea-f913-4e74-f604-c5245b2d26f1"
      },
      "execution_count": 9,
      "outputs": [
        {
          "output_type": "execute_result",
          "data": {
            "text/plain": [
              "(49, 5)"
            ]
          },
          "metadata": {},
          "execution_count": 9
        }
      ]
    },
    {
      "cell_type": "markdown",
      "source": [
        "# Prática Amostragem Sistemática"
      ],
      "metadata": {
        "id": "CT7ylLAjp_bw"
      }
    },
    {
      "cell_type": "code",
      "source": [
        "import numpy as np\n",
        "import pandas as pd\n",
        "from math import ceil\n"
      ],
      "metadata": {
        "id": "1D8978-VqFcY"
      },
      "execution_count": 10,
      "outputs": []
    },
    {
      "cell_type": "code",
      "source": [
        "# criação de variáveis para representar a população, a amostra e o valor de k\n",
        "populacao = 150\n",
        "amostra = 15\n",
        "k = ceil(populacao / amostra)\n",
        "print(k)\n",
        "# extrair um elemento a cada 10"
      ],
      "metadata": {
        "colab": {
          "base_uri": "https://localhost:8080/"
        },
        "id": "07ESoIlFqOvk",
        "outputId": "64d6f2c4-fb6a-429e-cd4d-e69e79c460c8"
      },
      "execution_count": 11,
      "outputs": [
        {
          "output_type": "stream",
          "name": "stdout",
          "text": [
            "10\n"
          ]
        }
      ]
    },
    {
      "cell_type": "code",
      "source": [
        "# Definição do valor random para inicializar a amostra, iniciando em 1 até k + 1\n",
        "r = np.random.randint(low = 1, high = k + 1, size = 1)\n",
        "print(r)"
      ],
      "metadata": {
        "colab": {
          "base_uri": "https://localhost:8080/"
        },
        "id": "4EP7QATisiE_",
        "outputId": "303b4f86-e299-4b3c-cb3c-a33d5b11cda5"
      },
      "execution_count": 12,
      "outputs": [
        {
          "output_type": "stream",
          "name": "stdout",
          "text": [
            "[10]\n"
          ]
        }
      ]
    },
    {
      "cell_type": "code",
      "source": [
        "# criamos um for para somar os próximos valores, baseado no primeiro valor r que foi definido acima\n",
        "acumulador = r[0]\n",
        "sorteados = []\n",
        "for i in range(amostra):\n",
        "  #print(acumulador)\n",
        "  sorteados.append(acumulador)\n",
        "  acumulador += k\n",
        "print(sorteados)"
      ],
      "metadata": {
        "colab": {
          "base_uri": "https://localhost:8080/"
        },
        "id": "FkUokGRys0qV",
        "outputId": "94837aa6-da88-44d2-c2dc-282279a2f077"
      },
      "execution_count": 19,
      "outputs": [
        {
          "output_type": "stream",
          "name": "stdout",
          "text": [
            "[10, 20, 30, 40, 50, 60, 70, 80, 90, 100, 110, 120, 130, 140, 150]\n"
          ]
        }
      ]
    },
    {
      "cell_type": "code",
      "source": [
        "len(sorteados)"
      ],
      "metadata": {
        "colab": {
          "base_uri": "https://localhost:8080/"
        },
        "id": "azvOOnLWRqkd",
        "outputId": "be23c13d-0fcb-4d28-9c83-5575d81bb6e3"
      },
      "execution_count": 20,
      "outputs": [
        {
          "output_type": "execute_result",
          "data": {
            "text/plain": [
              "15"
            ]
          },
          "metadata": {},
          "execution_count": 20
        }
      ]
    },
    {
      "cell_type": "code",
      "source": [
        "sorteados"
      ],
      "metadata": {
        "colab": {
          "base_uri": "https://localhost:8080/"
        },
        "id": "ZaM6ugZH5I9r",
        "outputId": "23413446-6499-4f20-dbdf-f12770ff5b79"
      },
      "execution_count": 21,
      "outputs": [
        {
          "output_type": "execute_result",
          "data": {
            "text/plain": [
              "[10, 20, 30, 40, 50, 60, 70, 80, 90, 100, 110, 120, 130, 140, 150]"
            ]
          },
          "metadata": {},
          "execution_count": 21
        }
      ]
    },
    {
      "cell_type": "code",
      "source": [
        "# carregamos a base de dados e criamos a base_final somente com os valores sorteados\n",
        "url_2 = ('https://raw.githubusercontent.com/tirolezzo/DataScience/main/iris.csv')\n",
        "base = pd.read_csv(url_2)\n",
        "base_final = base.loc[sorteados]\n",
        "base_final\n"
      ],
      "metadata": {
        "colab": {
          "base_uri": "https://localhost:8080/",
          "height": 373
        },
        "id": "6aKvHxNQSF-A",
        "outputId": "46a005bc-814b-48e1-964d-67c69390d374"
      },
      "execution_count": 24,
      "outputs": [
        {
          "output_type": "error",
          "ename": "KeyError",
          "evalue": "ignored",
          "traceback": [
            "\u001b[0;31m---------------------------------------------------------------------------\u001b[0m",
            "\u001b[0;31mKeyError\u001b[0m                                  Traceback (most recent call last)",
            "\u001b[0;32m<ipython-input-24-b1e97cd57384>\u001b[0m in \u001b[0;36m<cell line: 4>\u001b[0;34m()\u001b[0m\n\u001b[1;32m      2\u001b[0m \u001b[0murl_2\u001b[0m \u001b[0;34m=\u001b[0m \u001b[0;34m(\u001b[0m\u001b[0;34m'https://raw.githubusercontent.com/tirolezzo/DataScience/main/iris.csv'\u001b[0m\u001b[0;34m)\u001b[0m\u001b[0;34m\u001b[0m\u001b[0;34m\u001b[0m\u001b[0m\n\u001b[1;32m      3\u001b[0m \u001b[0mbase\u001b[0m \u001b[0;34m=\u001b[0m \u001b[0mpd\u001b[0m\u001b[0;34m.\u001b[0m\u001b[0mread_csv\u001b[0m\u001b[0;34m(\u001b[0m\u001b[0murl_2\u001b[0m\u001b[0;34m)\u001b[0m\u001b[0;34m\u001b[0m\u001b[0;34m\u001b[0m\u001b[0m\n\u001b[0;32m----> 4\u001b[0;31m \u001b[0mbase_final\u001b[0m \u001b[0;34m=\u001b[0m \u001b[0mbase\u001b[0m\u001b[0;34m.\u001b[0m\u001b[0mloc\u001b[0m\u001b[0;34m[\u001b[0m\u001b[0msorteados\u001b[0m\u001b[0;34m]\u001b[0m\u001b[0;34m\u001b[0m\u001b[0;34m\u001b[0m\u001b[0m\n\u001b[0m\u001b[1;32m      5\u001b[0m \u001b[0mbase_final\u001b[0m\u001b[0;34m\u001b[0m\u001b[0;34m\u001b[0m\u001b[0m\n",
            "\u001b[0;32m/usr/local/lib/python3.10/dist-packages/pandas/core/indexing.py\u001b[0m in \u001b[0;36m__getitem__\u001b[0;34m(self, key)\u001b[0m\n\u001b[1;32m   1071\u001b[0m \u001b[0;34m\u001b[0m\u001b[0m\n\u001b[1;32m   1072\u001b[0m             \u001b[0mmaybe_callable\u001b[0m \u001b[0;34m=\u001b[0m \u001b[0mcom\u001b[0m\u001b[0;34m.\u001b[0m\u001b[0mapply_if_callable\u001b[0m\u001b[0;34m(\u001b[0m\u001b[0mkey\u001b[0m\u001b[0;34m,\u001b[0m \u001b[0mself\u001b[0m\u001b[0;34m.\u001b[0m\u001b[0mobj\u001b[0m\u001b[0;34m)\u001b[0m\u001b[0;34m\u001b[0m\u001b[0;34m\u001b[0m\u001b[0m\n\u001b[0;32m-> 1073\u001b[0;31m             \u001b[0;32mreturn\u001b[0m \u001b[0mself\u001b[0m\u001b[0;34m.\u001b[0m\u001b[0m_getitem_axis\u001b[0m\u001b[0;34m(\u001b[0m\u001b[0mmaybe_callable\u001b[0m\u001b[0;34m,\u001b[0m \u001b[0maxis\u001b[0m\u001b[0;34m=\u001b[0m\u001b[0maxis\u001b[0m\u001b[0;34m)\u001b[0m\u001b[0;34m\u001b[0m\u001b[0;34m\u001b[0m\u001b[0m\n\u001b[0m\u001b[1;32m   1074\u001b[0m \u001b[0;34m\u001b[0m\u001b[0m\n\u001b[1;32m   1075\u001b[0m     \u001b[0;32mdef\u001b[0m \u001b[0m_is_scalar_access\u001b[0m\u001b[0;34m(\u001b[0m\u001b[0mself\u001b[0m\u001b[0;34m,\u001b[0m \u001b[0mkey\u001b[0m\u001b[0;34m:\u001b[0m \u001b[0mtuple\u001b[0m\u001b[0;34m)\u001b[0m\u001b[0;34m:\u001b[0m\u001b[0;34m\u001b[0m\u001b[0;34m\u001b[0m\u001b[0m\n",
            "\u001b[0;32m/usr/local/lib/python3.10/dist-packages/pandas/core/indexing.py\u001b[0m in \u001b[0;36m_getitem_axis\u001b[0;34m(self, key, axis)\u001b[0m\n\u001b[1;32m   1299\u001b[0m                     \u001b[0;32mraise\u001b[0m \u001b[0mValueError\u001b[0m\u001b[0;34m(\u001b[0m\u001b[0;34m\"Cannot index with multidimensional key\"\u001b[0m\u001b[0;34m)\u001b[0m\u001b[0;34m\u001b[0m\u001b[0;34m\u001b[0m\u001b[0m\n\u001b[1;32m   1300\u001b[0m \u001b[0;34m\u001b[0m\u001b[0m\n\u001b[0;32m-> 1301\u001b[0;31m                 \u001b[0;32mreturn\u001b[0m \u001b[0mself\u001b[0m\u001b[0;34m.\u001b[0m\u001b[0m_getitem_iterable\u001b[0m\u001b[0;34m(\u001b[0m\u001b[0mkey\u001b[0m\u001b[0;34m,\u001b[0m \u001b[0maxis\u001b[0m\u001b[0;34m=\u001b[0m\u001b[0maxis\u001b[0m\u001b[0;34m)\u001b[0m\u001b[0;34m\u001b[0m\u001b[0;34m\u001b[0m\u001b[0m\n\u001b[0m\u001b[1;32m   1302\u001b[0m \u001b[0;34m\u001b[0m\u001b[0m\n\u001b[1;32m   1303\u001b[0m             \u001b[0;31m# nested tuple slicing\u001b[0m\u001b[0;34m\u001b[0m\u001b[0;34m\u001b[0m\u001b[0m\n",
            "\u001b[0;32m/usr/local/lib/python3.10/dist-packages/pandas/core/indexing.py\u001b[0m in \u001b[0;36m_getitem_iterable\u001b[0;34m(self, key, axis)\u001b[0m\n\u001b[1;32m   1237\u001b[0m \u001b[0;34m\u001b[0m\u001b[0m\n\u001b[1;32m   1238\u001b[0m         \u001b[0;31m# A collection of keys\u001b[0m\u001b[0;34m\u001b[0m\u001b[0;34m\u001b[0m\u001b[0m\n\u001b[0;32m-> 1239\u001b[0;31m         \u001b[0mkeyarr\u001b[0m\u001b[0;34m,\u001b[0m \u001b[0mindexer\u001b[0m \u001b[0;34m=\u001b[0m \u001b[0mself\u001b[0m\u001b[0;34m.\u001b[0m\u001b[0m_get_listlike_indexer\u001b[0m\u001b[0;34m(\u001b[0m\u001b[0mkey\u001b[0m\u001b[0;34m,\u001b[0m \u001b[0maxis\u001b[0m\u001b[0;34m)\u001b[0m\u001b[0;34m\u001b[0m\u001b[0;34m\u001b[0m\u001b[0m\n\u001b[0m\u001b[1;32m   1240\u001b[0m         return self.obj._reindex_with_indexers(\n\u001b[1;32m   1241\u001b[0m             \u001b[0;34m{\u001b[0m\u001b[0maxis\u001b[0m\u001b[0;34m:\u001b[0m \u001b[0;34m[\u001b[0m\u001b[0mkeyarr\u001b[0m\u001b[0;34m,\u001b[0m \u001b[0mindexer\u001b[0m\u001b[0;34m]\u001b[0m\u001b[0;34m}\u001b[0m\u001b[0;34m,\u001b[0m \u001b[0mcopy\u001b[0m\u001b[0;34m=\u001b[0m\u001b[0;32mTrue\u001b[0m\u001b[0;34m,\u001b[0m \u001b[0mallow_dups\u001b[0m\u001b[0;34m=\u001b[0m\u001b[0;32mTrue\u001b[0m\u001b[0;34m\u001b[0m\u001b[0;34m\u001b[0m\u001b[0m\n",
            "\u001b[0;32m/usr/local/lib/python3.10/dist-packages/pandas/core/indexing.py\u001b[0m in \u001b[0;36m_get_listlike_indexer\u001b[0;34m(self, key, axis)\u001b[0m\n\u001b[1;32m   1430\u001b[0m         \u001b[0maxis_name\u001b[0m \u001b[0;34m=\u001b[0m \u001b[0mself\u001b[0m\u001b[0;34m.\u001b[0m\u001b[0mobj\u001b[0m\u001b[0;34m.\u001b[0m\u001b[0m_get_axis_name\u001b[0m\u001b[0;34m(\u001b[0m\u001b[0maxis\u001b[0m\u001b[0;34m)\u001b[0m\u001b[0;34m\u001b[0m\u001b[0;34m\u001b[0m\u001b[0m\n\u001b[1;32m   1431\u001b[0m \u001b[0;34m\u001b[0m\u001b[0m\n\u001b[0;32m-> 1432\u001b[0;31m         \u001b[0mkeyarr\u001b[0m\u001b[0;34m,\u001b[0m \u001b[0mindexer\u001b[0m \u001b[0;34m=\u001b[0m \u001b[0max\u001b[0m\u001b[0;34m.\u001b[0m\u001b[0m_get_indexer_strict\u001b[0m\u001b[0;34m(\u001b[0m\u001b[0mkey\u001b[0m\u001b[0;34m,\u001b[0m \u001b[0maxis_name\u001b[0m\u001b[0;34m)\u001b[0m\u001b[0;34m\u001b[0m\u001b[0;34m\u001b[0m\u001b[0m\n\u001b[0m\u001b[1;32m   1433\u001b[0m \u001b[0;34m\u001b[0m\u001b[0m\n\u001b[1;32m   1434\u001b[0m         \u001b[0;32mreturn\u001b[0m \u001b[0mkeyarr\u001b[0m\u001b[0;34m,\u001b[0m \u001b[0mindexer\u001b[0m\u001b[0;34m\u001b[0m\u001b[0;34m\u001b[0m\u001b[0m\n",
            "\u001b[0;32m/usr/local/lib/python3.10/dist-packages/pandas/core/indexes/base.py\u001b[0m in \u001b[0;36m_get_indexer_strict\u001b[0;34m(self, key, axis_name)\u001b[0m\n\u001b[1;32m   6068\u001b[0m             \u001b[0mkeyarr\u001b[0m\u001b[0;34m,\u001b[0m \u001b[0mindexer\u001b[0m\u001b[0;34m,\u001b[0m \u001b[0mnew_indexer\u001b[0m \u001b[0;34m=\u001b[0m \u001b[0mself\u001b[0m\u001b[0;34m.\u001b[0m\u001b[0m_reindex_non_unique\u001b[0m\u001b[0;34m(\u001b[0m\u001b[0mkeyarr\u001b[0m\u001b[0;34m)\u001b[0m\u001b[0;34m\u001b[0m\u001b[0;34m\u001b[0m\u001b[0m\n\u001b[1;32m   6069\u001b[0m \u001b[0;34m\u001b[0m\u001b[0m\n\u001b[0;32m-> 6070\u001b[0;31m         \u001b[0mself\u001b[0m\u001b[0;34m.\u001b[0m\u001b[0m_raise_if_missing\u001b[0m\u001b[0;34m(\u001b[0m\u001b[0mkeyarr\u001b[0m\u001b[0;34m,\u001b[0m \u001b[0mindexer\u001b[0m\u001b[0;34m,\u001b[0m \u001b[0maxis_name\u001b[0m\u001b[0;34m)\u001b[0m\u001b[0;34m\u001b[0m\u001b[0;34m\u001b[0m\u001b[0m\n\u001b[0m\u001b[1;32m   6071\u001b[0m \u001b[0;34m\u001b[0m\u001b[0m\n\u001b[1;32m   6072\u001b[0m         \u001b[0mkeyarr\u001b[0m \u001b[0;34m=\u001b[0m \u001b[0mself\u001b[0m\u001b[0;34m.\u001b[0m\u001b[0mtake\u001b[0m\u001b[0;34m(\u001b[0m\u001b[0mindexer\u001b[0m\u001b[0;34m)\u001b[0m\u001b[0;34m\u001b[0m\u001b[0;34m\u001b[0m\u001b[0m\n",
            "\u001b[0;32m/usr/local/lib/python3.10/dist-packages/pandas/core/indexes/base.py\u001b[0m in \u001b[0;36m_raise_if_missing\u001b[0;34m(self, key, indexer, axis_name)\u001b[0m\n\u001b[1;32m   6131\u001b[0m \u001b[0;34m\u001b[0m\u001b[0m\n\u001b[1;32m   6132\u001b[0m             \u001b[0mnot_found\u001b[0m \u001b[0;34m=\u001b[0m \u001b[0mlist\u001b[0m\u001b[0;34m(\u001b[0m\u001b[0mensure_index\u001b[0m\u001b[0;34m(\u001b[0m\u001b[0mkey\u001b[0m\u001b[0;34m)\u001b[0m\u001b[0;34m[\u001b[0m\u001b[0mmissing_mask\u001b[0m\u001b[0;34m.\u001b[0m\u001b[0mnonzero\u001b[0m\u001b[0;34m(\u001b[0m\u001b[0;34m)\u001b[0m\u001b[0;34m[\u001b[0m\u001b[0;36m0\u001b[0m\u001b[0;34m]\u001b[0m\u001b[0;34m]\u001b[0m\u001b[0;34m.\u001b[0m\u001b[0munique\u001b[0m\u001b[0;34m(\u001b[0m\u001b[0;34m)\u001b[0m\u001b[0;34m)\u001b[0m\u001b[0;34m\u001b[0m\u001b[0;34m\u001b[0m\u001b[0m\n\u001b[0;32m-> 6133\u001b[0;31m             \u001b[0;32mraise\u001b[0m \u001b[0mKeyError\u001b[0m\u001b[0;34m(\u001b[0m\u001b[0;34mf\"{not_found} not in index\"\u001b[0m\u001b[0;34m)\u001b[0m\u001b[0;34m\u001b[0m\u001b[0;34m\u001b[0m\u001b[0m\n\u001b[0m\u001b[1;32m   6134\u001b[0m \u001b[0;34m\u001b[0m\u001b[0m\n\u001b[1;32m   6135\u001b[0m     \u001b[0;34m@\u001b[0m\u001b[0moverload\u001b[0m\u001b[0;34m\u001b[0m\u001b[0;34m\u001b[0m\u001b[0m\n",
            "\u001b[0;31mKeyError\u001b[0m: '[150] not in index'"
          ]
        }
      ]
    },
    {
      "cell_type": "markdown",
      "source": [
        "# Amostragem estratificada"
      ],
      "metadata": {
        "id": "nEkqDUmFT-S8"
      }
    },
    {
      "cell_type": "code",
      "source": [
        "import pandas as pd\n",
        "from sklearn.model_selection import train_test_split\n",
        "# train_test_slip"
      ],
      "metadata": {
        "id": "Y9xZKZ4-TM9J"
      },
      "execution_count": 25,
      "outputs": []
    },
    {
      "cell_type": "code",
      "source": [
        "url = ('https://raw.githubusercontent.com/tirolezzo/DataScience/main/iris.csv')\n",
        "iris = pd.read_csv(url)\n",
        "iris['class'].value_counts()"
      ],
      "metadata": {
        "colab": {
          "base_uri": "https://localhost:8080/"
        },
        "id": "IT2NS__9XZGi",
        "outputId": "2a380cfb-fc57-48d8-ca96-b7694442d190"
      },
      "execution_count": 26,
      "outputs": [
        {
          "output_type": "execute_result",
          "data": {
            "text/plain": [
              "Iris-setosa        50\n",
              "Iris-versicolor    50\n",
              "Iris-virginica     50\n",
              "Name: class, dtype: int64"
            ]
          },
          "metadata": {},
          "execution_count": 26
        }
      ]
    },
    {
      "cell_type": "code",
      "source": [
        "# iris.iloc[:, 0:4]: buscamos somente os atributos previsores, ou seja, os dados pétala e sétala da planta\n",
        "# iris.iloc[:, 4]: buscamos somente a classe, que é a especie da planta (setosa, virginica versicolor)\n",
        "# test_size: selecionamos 50% da base de dados, que serão copiados para as variaveis x e y. Essa função retorna 4 valores, porém vamos usar somente os 50% da base de dados e por isso colocamos \"_\" para os outros valores.\n",
        "# stratify: para retornar a amostra baseada na classe.\n",
        "\n",
        "x, _, y, _ = train_test_split(iris.iloc[:, 0:4], iris.iloc[:, 4],\n",
        "                           test_size = 0.5, stratify = iris.iloc[:, 4])\n",
        "y.value_counts()"
      ],
      "metadata": {
        "colab": {
          "base_uri": "https://localhost:8080/"
        },
        "id": "j0iw5Xb_XlsQ",
        "outputId": "3c62be45-582b-494f-d737-27648a5f3d68"
      },
      "execution_count": 27,
      "outputs": [
        {
          "output_type": "execute_result",
          "data": {
            "text/plain": [
              "Iris-setosa        25\n",
              "Iris-versicolor    25\n",
              "Iris-virginica     25\n",
              "Name: class, dtype: int64"
            ]
          },
          "metadata": {},
          "execution_count": 27
        }
      ]
    },
    {
      "cell_type": "code",
      "source": [
        "# carregamento da base de dados e contagem de quantos registros por classe\n",
        "infert = pd.read_csv('https://raw.githubusercontent.com/tirolezzo/DataScience/main/infert.csv')\n",
        "infert"
      ],
      "metadata": {
        "colab": {
          "base_uri": "https://localhost:8080/",
          "height": 424
        },
        "id": "G72k58PXbxc8",
        "outputId": "9d4cd385-5c28-4d74-9a7d-45eb2c9116f5"
      },
      "execution_count": 28,
      "outputs": [
        {
          "output_type": "execute_result",
          "data": {
            "text/plain": [
              "     Unnamed: 0 education  age  parity  induced  case  spontaneous  stratum  \\\n",
              "0             1    0-5yrs   26       6        1     1            2        1   \n",
              "1             2    0-5yrs   42       1        1     1            0        2   \n",
              "2             3    0-5yrs   39       6        2     1            0        3   \n",
              "3             4    0-5yrs   34       4        2     1            0        4   \n",
              "4             5   6-11yrs   35       3        1     1            1        5   \n",
              "..          ...       ...  ...     ...      ...   ...          ...      ...   \n",
              "243         244   12+ yrs   31       1        0     0            1       79   \n",
              "244         245   12+ yrs   34       1        0     0            0       80   \n",
              "245         246   12+ yrs   35       2        2     0            0       81   \n",
              "246         247   12+ yrs   29       1        0     0            1       82   \n",
              "247         248   12+ yrs   23       1        0     0            1       83   \n",
              "\n",
              "     pooled.stratum  \n",
              "0                 3  \n",
              "1                 1  \n",
              "2                 4  \n",
              "3                 2  \n",
              "4                32  \n",
              "..              ...  \n",
              "243              45  \n",
              "244              47  \n",
              "245              54  \n",
              "246              43  \n",
              "247              40  \n",
              "\n",
              "[248 rows x 9 columns]"
            ],
            "text/html": [
              "\n",
              "  <div id=\"df-d2da91bb-b74f-4e88-b5c8-2c9126765f5d\" class=\"colab-df-container\">\n",
              "    <div>\n",
              "<style scoped>\n",
              "    .dataframe tbody tr th:only-of-type {\n",
              "        vertical-align: middle;\n",
              "    }\n",
              "\n",
              "    .dataframe tbody tr th {\n",
              "        vertical-align: top;\n",
              "    }\n",
              "\n",
              "    .dataframe thead th {\n",
              "        text-align: right;\n",
              "    }\n",
              "</style>\n",
              "<table border=\"1\" class=\"dataframe\">\n",
              "  <thead>\n",
              "    <tr style=\"text-align: right;\">\n",
              "      <th></th>\n",
              "      <th>Unnamed: 0</th>\n",
              "      <th>education</th>\n",
              "      <th>age</th>\n",
              "      <th>parity</th>\n",
              "      <th>induced</th>\n",
              "      <th>case</th>\n",
              "      <th>spontaneous</th>\n",
              "      <th>stratum</th>\n",
              "      <th>pooled.stratum</th>\n",
              "    </tr>\n",
              "  </thead>\n",
              "  <tbody>\n",
              "    <tr>\n",
              "      <th>0</th>\n",
              "      <td>1</td>\n",
              "      <td>0-5yrs</td>\n",
              "      <td>26</td>\n",
              "      <td>6</td>\n",
              "      <td>1</td>\n",
              "      <td>1</td>\n",
              "      <td>2</td>\n",
              "      <td>1</td>\n",
              "      <td>3</td>\n",
              "    </tr>\n",
              "    <tr>\n",
              "      <th>1</th>\n",
              "      <td>2</td>\n",
              "      <td>0-5yrs</td>\n",
              "      <td>42</td>\n",
              "      <td>1</td>\n",
              "      <td>1</td>\n",
              "      <td>1</td>\n",
              "      <td>0</td>\n",
              "      <td>2</td>\n",
              "      <td>1</td>\n",
              "    </tr>\n",
              "    <tr>\n",
              "      <th>2</th>\n",
              "      <td>3</td>\n",
              "      <td>0-5yrs</td>\n",
              "      <td>39</td>\n",
              "      <td>6</td>\n",
              "      <td>2</td>\n",
              "      <td>1</td>\n",
              "      <td>0</td>\n",
              "      <td>3</td>\n",
              "      <td>4</td>\n",
              "    </tr>\n",
              "    <tr>\n",
              "      <th>3</th>\n",
              "      <td>4</td>\n",
              "      <td>0-5yrs</td>\n",
              "      <td>34</td>\n",
              "      <td>4</td>\n",
              "      <td>2</td>\n",
              "      <td>1</td>\n",
              "      <td>0</td>\n",
              "      <td>4</td>\n",
              "      <td>2</td>\n",
              "    </tr>\n",
              "    <tr>\n",
              "      <th>4</th>\n",
              "      <td>5</td>\n",
              "      <td>6-11yrs</td>\n",
              "      <td>35</td>\n",
              "      <td>3</td>\n",
              "      <td>1</td>\n",
              "      <td>1</td>\n",
              "      <td>1</td>\n",
              "      <td>5</td>\n",
              "      <td>32</td>\n",
              "    </tr>\n",
              "    <tr>\n",
              "      <th>...</th>\n",
              "      <td>...</td>\n",
              "      <td>...</td>\n",
              "      <td>...</td>\n",
              "      <td>...</td>\n",
              "      <td>...</td>\n",
              "      <td>...</td>\n",
              "      <td>...</td>\n",
              "      <td>...</td>\n",
              "      <td>...</td>\n",
              "    </tr>\n",
              "    <tr>\n",
              "      <th>243</th>\n",
              "      <td>244</td>\n",
              "      <td>12+ yrs</td>\n",
              "      <td>31</td>\n",
              "      <td>1</td>\n",
              "      <td>0</td>\n",
              "      <td>0</td>\n",
              "      <td>1</td>\n",
              "      <td>79</td>\n",
              "      <td>45</td>\n",
              "    </tr>\n",
              "    <tr>\n",
              "      <th>244</th>\n",
              "      <td>245</td>\n",
              "      <td>12+ yrs</td>\n",
              "      <td>34</td>\n",
              "      <td>1</td>\n",
              "      <td>0</td>\n",
              "      <td>0</td>\n",
              "      <td>0</td>\n",
              "      <td>80</td>\n",
              "      <td>47</td>\n",
              "    </tr>\n",
              "    <tr>\n",
              "      <th>245</th>\n",
              "      <td>246</td>\n",
              "      <td>12+ yrs</td>\n",
              "      <td>35</td>\n",
              "      <td>2</td>\n",
              "      <td>2</td>\n",
              "      <td>0</td>\n",
              "      <td>0</td>\n",
              "      <td>81</td>\n",
              "      <td>54</td>\n",
              "    </tr>\n",
              "    <tr>\n",
              "      <th>246</th>\n",
              "      <td>247</td>\n",
              "      <td>12+ yrs</td>\n",
              "      <td>29</td>\n",
              "      <td>1</td>\n",
              "      <td>0</td>\n",
              "      <td>0</td>\n",
              "      <td>1</td>\n",
              "      <td>82</td>\n",
              "      <td>43</td>\n",
              "    </tr>\n",
              "    <tr>\n",
              "      <th>247</th>\n",
              "      <td>248</td>\n",
              "      <td>12+ yrs</td>\n",
              "      <td>23</td>\n",
              "      <td>1</td>\n",
              "      <td>0</td>\n",
              "      <td>0</td>\n",
              "      <td>1</td>\n",
              "      <td>83</td>\n",
              "      <td>40</td>\n",
              "    </tr>\n",
              "  </tbody>\n",
              "</table>\n",
              "<p>248 rows × 9 columns</p>\n",
              "</div>\n",
              "    <div class=\"colab-df-buttons\">\n",
              "\n",
              "  <div class=\"colab-df-container\">\n",
              "    <button class=\"colab-df-convert\" onclick=\"convertToInteractive('df-d2da91bb-b74f-4e88-b5c8-2c9126765f5d')\"\n",
              "            title=\"Convert this dataframe to an interactive table.\"\n",
              "            style=\"display:none;\">\n",
              "\n",
              "  <svg xmlns=\"http://www.w3.org/2000/svg\" height=\"24px\" viewBox=\"0 -960 960 960\">\n",
              "    <path d=\"M120-120v-720h720v720H120Zm60-500h600v-160H180v160Zm220 220h160v-160H400v160Zm0 220h160v-160H400v160ZM180-400h160v-160H180v160Zm440 0h160v-160H620v160ZM180-180h160v-160H180v160Zm440 0h160v-160H620v160Z\"/>\n",
              "  </svg>\n",
              "    </button>\n",
              "\n",
              "  <style>\n",
              "    .colab-df-container {\n",
              "      display:flex;\n",
              "      gap: 12px;\n",
              "    }\n",
              "\n",
              "    .colab-df-convert {\n",
              "      background-color: #E8F0FE;\n",
              "      border: none;\n",
              "      border-radius: 50%;\n",
              "      cursor: pointer;\n",
              "      display: none;\n",
              "      fill: #1967D2;\n",
              "      height: 32px;\n",
              "      padding: 0 0 0 0;\n",
              "      width: 32px;\n",
              "    }\n",
              "\n",
              "    .colab-df-convert:hover {\n",
              "      background-color: #E2EBFA;\n",
              "      box-shadow: 0px 1px 2px rgba(60, 64, 67, 0.3), 0px 1px 3px 1px rgba(60, 64, 67, 0.15);\n",
              "      fill: #174EA6;\n",
              "    }\n",
              "\n",
              "    .colab-df-buttons div {\n",
              "      margin-bottom: 4px;\n",
              "    }\n",
              "\n",
              "    [theme=dark] .colab-df-convert {\n",
              "      background-color: #3B4455;\n",
              "      fill: #D2E3FC;\n",
              "    }\n",
              "\n",
              "    [theme=dark] .colab-df-convert:hover {\n",
              "      background-color: #434B5C;\n",
              "      box-shadow: 0px 1px 3px 1px rgba(0, 0, 0, 0.15);\n",
              "      filter: drop-shadow(0px 1px 2px rgba(0, 0, 0, 0.3));\n",
              "      fill: #FFFFFF;\n",
              "    }\n",
              "  </style>\n",
              "\n",
              "    <script>\n",
              "      const buttonEl =\n",
              "        document.querySelector('#df-d2da91bb-b74f-4e88-b5c8-2c9126765f5d button.colab-df-convert');\n",
              "      buttonEl.style.display =\n",
              "        google.colab.kernel.accessAllowed ? 'block' : 'none';\n",
              "\n",
              "      async function convertToInteractive(key) {\n",
              "        const element = document.querySelector('#df-d2da91bb-b74f-4e88-b5c8-2c9126765f5d');\n",
              "        const dataTable =\n",
              "          await google.colab.kernel.invokeFunction('convertToInteractive',\n",
              "                                                    [key], {});\n",
              "        if (!dataTable) return;\n",
              "\n",
              "        const docLinkHtml = 'Like what you see? Visit the ' +\n",
              "          '<a target=\"_blank\" href=https://colab.research.google.com/notebooks/data_table.ipynb>data table notebook</a>'\n",
              "          + ' to learn more about interactive tables.';\n",
              "        element.innerHTML = '';\n",
              "        dataTable['output_type'] = 'display_data';\n",
              "        await google.colab.output.renderOutput(dataTable, element);\n",
              "        const docLink = document.createElement('div');\n",
              "        docLink.innerHTML = docLinkHtml;\n",
              "        element.appendChild(docLink);\n",
              "      }\n",
              "    </script>\n",
              "  </div>\n",
              "\n",
              "\n",
              "<div id=\"df-cd19fb33-b82b-443a-9c8a-166959e238b0\">\n",
              "  <button class=\"colab-df-quickchart\" onclick=\"quickchart('df-cd19fb33-b82b-443a-9c8a-166959e238b0')\"\n",
              "            title=\"Suggest charts.\"\n",
              "            style=\"display:none;\">\n",
              "\n",
              "<svg xmlns=\"http://www.w3.org/2000/svg\" height=\"24px\"viewBox=\"0 0 24 24\"\n",
              "     width=\"24px\">\n",
              "    <g>\n",
              "        <path d=\"M19 3H5c-1.1 0-2 .9-2 2v14c0 1.1.9 2 2 2h14c1.1 0 2-.9 2-2V5c0-1.1-.9-2-2-2zM9 17H7v-7h2v7zm4 0h-2V7h2v10zm4 0h-2v-4h2v4z\"/>\n",
              "    </g>\n",
              "</svg>\n",
              "  </button>\n",
              "\n",
              "<style>\n",
              "  .colab-df-quickchart {\n",
              "    background-color: #E8F0FE;\n",
              "    border: none;\n",
              "    border-radius: 50%;\n",
              "    cursor: pointer;\n",
              "    display: none;\n",
              "    fill: #1967D2;\n",
              "    height: 32px;\n",
              "    padding: 0 0 0 0;\n",
              "    width: 32px;\n",
              "  }\n",
              "\n",
              "  .colab-df-quickchart:hover {\n",
              "    background-color: #E2EBFA;\n",
              "    box-shadow: 0px 1px 2px rgba(60, 64, 67, 0.3), 0px 1px 3px 1px rgba(60, 64, 67, 0.15);\n",
              "    fill: #174EA6;\n",
              "  }\n",
              "\n",
              "  [theme=dark] .colab-df-quickchart {\n",
              "    background-color: #3B4455;\n",
              "    fill: #D2E3FC;\n",
              "  }\n",
              "\n",
              "  [theme=dark] .colab-df-quickchart:hover {\n",
              "    background-color: #434B5C;\n",
              "    box-shadow: 0px 1px 3px 1px rgba(0, 0, 0, 0.15);\n",
              "    filter: drop-shadow(0px 1px 2px rgba(0, 0, 0, 0.3));\n",
              "    fill: #FFFFFF;\n",
              "  }\n",
              "</style>\n",
              "\n",
              "  <script>\n",
              "    async function quickchart(key) {\n",
              "      const charts = await google.colab.kernel.invokeFunction(\n",
              "          'suggestCharts', [key], {});\n",
              "    }\n",
              "    (() => {\n",
              "      let quickchartButtonEl =\n",
              "        document.querySelector('#df-cd19fb33-b82b-443a-9c8a-166959e238b0 button');\n",
              "      quickchartButtonEl.style.display =\n",
              "        google.colab.kernel.accessAllowed ? 'block' : 'none';\n",
              "    })();\n",
              "  </script>\n",
              "</div>\n",
              "    </div>\n",
              "  </div>\n"
            ]
          },
          "metadata": {},
          "execution_count": 28
        }
      ]
    },
    {
      "cell_type": "code",
      "source": [
        "infert['education'].value_counts()"
      ],
      "metadata": {
        "colab": {
          "base_uri": "https://localhost:8080/"
        },
        "id": "cVBg9u-_cfCk",
        "outputId": "a4070cc4-0d25-42d1-ac59-c427bfc701d0"
      },
      "execution_count": 29,
      "outputs": [
        {
          "output_type": "execute_result",
          "data": {
            "text/plain": [
              "6-11yrs    120\n",
              "12+ yrs    116\n",
              "0-5yrs      12\n",
              "Name: education, dtype: int64"
            ]
          },
          "metadata": {},
          "execution_count": 29
        }
      ]
    },
    {
      "cell_type": "code",
      "source": [
        "# Criando uma amostra com somente 40% dos registros (por isso é definido 0.6, pois é gerado o inverso)\n",
        "x1, _, y1, _ = train_test_split(infert.iloc[:, 2:9], infert.iloc[:, 1],\n",
        "                           test_size = 0.6, stratify = infert.iloc[:, 1])\n",
        "y1.value_counts()"
      ],
      "metadata": {
        "colab": {
          "base_uri": "https://localhost:8080/"
        },
        "id": "HWonDXw8c5X9",
        "outputId": "5882e261-a3a3-4b58-a6f8-0e04498c2209"
      },
      "execution_count": 30,
      "outputs": [
        {
          "output_type": "execute_result",
          "data": {
            "text/plain": [
              "6-11yrs    48\n",
              "12+ yrs    46\n",
              "0-5yrs      5\n",
              "Name: education, dtype: int64"
            ]
          },
          "metadata": {},
          "execution_count": 30
        }
      ]
    },
    {
      "cell_type": "markdown",
      "source": [
        "#<h1> Medidas de Centralidade e Variabilidade</h1>\n",
        "<b> Por Ricardo Freire </b>\n",
        "<br>\n",
        "<i> Data: 23/08/2023 </i>\n"
      ],
      "metadata": {
        "id": "dJivocq27PH4"
      }
    },
    {
      "cell_type": "code",
      "source": [
        "# scipy para gerar estatisticas mais detalhadas\n",
        "import numpy as np\n",
        "from scipy import stats\n"
      ],
      "metadata": {
        "id": "ROp_Rjjm7WW5"
      },
      "execution_count": 31,
      "outputs": []
    },
    {
      "cell_type": "code",
      "source": [
        "# Criação da varivel com os dados dos jogadores, visualização da mediana e média\n",
        "jogadores = [40000, 18000, 12000, 250000, 30000, 140000, 300000, 40000, 800000]\n",
        "np.mean(jogadores)"
      ],
      "metadata": {
        "colab": {
          "base_uri": "https://localhost:8080/"
        },
        "id": "T5FR-6Se7ggP",
        "outputId": "1c12bbd5-b62a-4c2f-85f3-d1c79dbe062c"
      },
      "execution_count": 32,
      "outputs": [
        {
          "output_type": "execute_result",
          "data": {
            "text/plain": [
              "181111.11111111112"
            ]
          },
          "metadata": {},
          "execution_count": 32
        }
      ]
    },
    {
      "cell_type": "code",
      "source": [
        "np.median(jogadores)"
      ],
      "metadata": {
        "colab": {
          "base_uri": "https://localhost:8080/"
        },
        "id": "fWqetLG78aFI",
        "outputId": "0bde91e3-6b97-432d-8adc-228601e5baa3"
      },
      "execution_count": 33,
      "outputs": [
        {
          "output_type": "execute_result",
          "data": {
            "text/plain": [
              "40000.0"
            ]
          },
          "metadata": {},
          "execution_count": 33
        }
      ]
    },
    {
      "cell_type": "code",
      "source": [
        "# Criação da variavel para geração dos quartis (0%, 25%, 50%, 75%, 100%)\n",
        "quartis = np.quantile(jogadores, [0, 0.25, 0.50, 0.75, 1])\n",
        "quartis"
      ],
      "metadata": {
        "id": "8gggRutR9ti0",
        "colab": {
          "base_uri": "https://localhost:8080/"
        },
        "outputId": "77b2ea82-c9dc-46a2-f618-a015c2867de7"
      },
      "execution_count": 34,
      "outputs": [
        {
          "output_type": "execute_result",
          "data": {
            "text/plain": [
              "array([ 12000.,  30000.,  40000., 250000., 800000.])"
            ]
          },
          "metadata": {},
          "execution_count": 34
        }
      ]
    },
    {
      "cell_type": "code",
      "source": [
        "# Visualização do Desvio Padrão\n",
        "np.std(jogadores, ddof = 1)"
      ],
      "metadata": {
        "colab": {
          "base_uri": "https://localhost:8080/"
        },
        "id": "2rS1WwEPBBZg",
        "outputId": "4fec6755-bc36-4077-da21-00a56ee43b73"
      },
      "execution_count": 35,
      "outputs": [
        {
          "output_type": "execute_result",
          "data": {
            "text/plain": [
              "255307.87514511007"
            ]
          },
          "metadata": {},
          "execution_count": 35
        }
      ]
    },
    {
      "cell_type": "code",
      "source": [
        "# Visualização de estatisitcas mais detalhadas usando a biblioteca scipy\n",
        "stats.describe(jogadores)"
      ],
      "metadata": {
        "colab": {
          "base_uri": "https://localhost:8080/"
        },
        "id": "hKXBDLfbCmFc",
        "outputId": "5b5ce524-c867-4d0b-db33-f4772ccb9994"
      },
      "execution_count": 36,
      "outputs": [
        {
          "output_type": "execute_result",
          "data": {
            "text/plain": [
              "DescribeResult(nobs=9, minmax=(12000, 800000), mean=181111.11111111112, variance=65182111111.11111, skewness=1.758635899846188, kurtosis=1.9572075427527729)"
            ]
          },
          "metadata": {},
          "execution_count": 36
        }
      ]
    },
    {
      "cell_type": "markdown",
      "source": [
        "# Distribuição normal\n"
      ],
      "metadata": {
        "id": "VUoOI1yV7LEQ"
      }
    },
    {
      "cell_type": "code",
      "source": [
        "from scipy.stats import norm"
      ],
      "metadata": {
        "id": "RW2VIyNG7Og3"
      },
      "execution_count": 1,
      "outputs": []
    },
    {
      "cell_type": "code",
      "source": [
        "# Conjunto de objetos em uma cesta, a média é 8 e o desvio padrão é 2\n",
        "# Qual a probabilidade de tirar o um objeto que peso é menor que 6 quilos?\n",
        "norm.cdf(6, 8, 2)"
      ],
      "metadata": {
        "colab": {
          "base_uri": "https://localhost:8080/"
        },
        "id": "gXyvcgqC8Qde",
        "outputId": "4f5eef6e-b982-40ac-fbac-87cf256520bb"
      },
      "execution_count": 2,
      "outputs": [
        {
          "output_type": "execute_result",
          "data": {
            "text/plain": [
              "0.15865525393145707"
            ]
          },
          "metadata": {},
          "execution_count": 2
        }
      ]
    },
    {
      "cell_type": "code",
      "source": [
        "# qual a probabilidade de tirar um objeto que o peso é maior que 6 kilos\n",
        "norm.sf(6, 8, 2)\n",
        "1 - norm.cdf(6, 8, 2)\n"
      ],
      "metadata": {
        "colab": {
          "base_uri": "https://localhost:8080/"
        },
        "id": "3qe82vUD8vxv",
        "outputId": "ffb58ee7-f45d-4e02-9452-02062d19cdbf"
      },
      "execution_count": 3,
      "outputs": [
        {
          "output_type": "execute_result",
          "data": {
            "text/plain": [
              "0.8413447460685429"
            ]
          },
          "metadata": {},
          "execution_count": 3
        }
      ]
    },
    {
      "cell_type": "code",
      "source": [
        "# Qual a probabilidade de tirar um objeto que o peso é menor que 6 ou maior que 10 kilos?\n",
        "norm.cdf(6, 8, 2) + norm.sf(10, 8, 2)"
      ],
      "metadata": {
        "colab": {
          "base_uri": "https://localhost:8080/"
        },
        "id": "fcn75C3GiL2N",
        "outputId": "d3786f71-1e39-4c17-c6de-31054bab8e0a"
      },
      "execution_count": 5,
      "outputs": [
        {
          "output_type": "execute_result",
          "data": {
            "text/plain": [
              "0.31731050786291415"
            ]
          },
          "metadata": {},
          "execution_count": 5
        }
      ]
    },
    {
      "cell_type": "code",
      "source": [
        "# Qual a probabilidade de tirar um objeto que peso é menor que 10 e maior que 8 quilos?\n",
        "norm.cdf(10, 8, 2) - norm.cdf(8, 8 , 2)"
      ],
      "metadata": {
        "colab": {
          "base_uri": "https://localhost:8080/"
        },
        "id": "Q6COsXdD_CGF",
        "outputId": "85869266-9043-4e20-c08f-7de5353d2da2"
      },
      "execution_count": 6,
      "outputs": [
        {
          "output_type": "execute_result",
          "data": {
            "text/plain": [
              "0.3413447460685429"
            ]
          },
          "metadata": {},
          "execution_count": 6
        }
      ]
    },
    {
      "cell_type": "code",
      "source": [],
      "metadata": {
        "id": "fd_4iS23CqLM"
      },
      "execution_count": null,
      "outputs": []
    }
  ]
}